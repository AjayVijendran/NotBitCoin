{
  "cells": [
    {
      "cell_type": "code",
      "execution_count": 2,
      "metadata": {
        "colab": {
          "base_uri": "https://localhost:8080/"
        },
        "id": "4Boenj7neWdW",
        "outputId": "8e33469b-f0cd-419f-9d49-41f03854c97f"
      },
      "outputs": [
        {
          "name": "stdout",
          "output_type": "stream",
          "text": [
            "Note: you may need to restart the kernel to use updated packages.Requirement already satisfied: prophet in c:\\users\\ajayv\\appdata\\local\\programs\\python\\python311\\lib\\site-packages (1.1.5)\n",
            "Requirement already satisfied: cmdstanpy>=1.0.4 in c:\\users\\ajayv\\appdata\\local\\programs\\python\\python311\\lib\\site-packages (from prophet) (1.2.0)\n",
            "Requirement already satisfied: numpy>=1.15.4 in c:\\users\\ajayv\\appdata\\local\\programs\\python\\python311\\lib\\site-packages (from prophet) (1.23.5)\n",
            "Requirement already satisfied: matplotlib>=2.0.0 in c:\\users\\ajayv\\appdata\\local\\programs\\python\\python311\\lib\\site-packages (from prophet) (3.8.0)\n",
            "Requirement already satisfied: pandas>=1.0.4 in c:\\users\\ajayv\\appdata\\local\\programs\\python\\python311\\lib\\site-packages (from prophet) (2.1.1)\n",
            "Requirement already satisfied: holidays>=0.25 in c:\\users\\ajayv\\appdata\\local\\programs\\python\\python311\\lib\\site-packages (from prophet) (0.35)\n",
            "Requirement already satisfied: tqdm>=4.36.1 in c:\\users\\ajayv\\appdata\\local\\programs\\python\\python311\\lib\\site-packages (from prophet) (4.64.1)\n",
            "Requirement already satisfied: importlib-resources in c:\\users\\ajayv\\appdata\\local\\programs\\python\\python311\\lib\\site-packages (from prophet) (6.1.0)\n",
            "Requirement already satisfied: stanio~=0.3.0 in c:\\users\\ajayv\\appdata\\local\\programs\\python\\python311\\lib\\site-packages (from cmdstanpy>=1.0.4->prophet) (0.3.0)\n",
            "Requirement already satisfied: python-dateutil in c:\\users\\ajayv\\appdata\\roaming\\python\\python311\\site-packages (from holidays>=0.25->prophet) (2.8.2)\n",
            "Requirement already satisfied: contourpy>=1.0.1 in c:\\users\\ajayv\\appdata\\local\\programs\\python\\python311\\lib\\site-packages (from matplotlib>=2.0.0->prophet) (1.1.1)\n",
            "Requirement already satisfied: cycler>=0.10 in c:\\users\\ajayv\\appdata\\local\\programs\\python\\python311\\lib\\site-packages (from matplotlib>=2.0.0->prophet) (0.12.1)\n",
            "Requirement already satisfied: fonttools>=4.22.0 in c:\\users\\ajayv\\appdata\\local\\programs\\python\\python311\\lib\\site-packages (from matplotlib>=2.0.0->prophet) (4.43.1)\n",
            "Requirement already satisfied: kiwisolver>=1.0.1 in c:\\users\\ajayv\\appdata\\local\\programs\\python\\python311\\lib\\site-packages (from matplotlib>=2.0.0->prophet) (1.4.5)\n",
            "Requirement already satisfied: packaging>=20.0 in c:\\users\\ajayv\\appdata\\local\\programs\\python\\python311\\lib\\site-packages (from matplotlib>=2.0.0->prophet) (23.0)\n",
            "Requirement already satisfied: pillow>=6.2.0 in c:\\users\\ajayv\\appdata\\local\\programs\\python\\python311\\lib\\site-packages (from matplotlib>=2.0.0->prophet) (10.1.0)\n",
            "Requirement already satisfied: pyparsing>=2.3.1 in c:\\users\\ajayv\\appdata\\local\\programs\\python\\python311\\lib\\site-packages (from matplotlib>=2.0.0->prophet) (3.1.1)\n",
            "Requirement already satisfied: pytz>=2020.1 in c:\\users\\ajayv\\appdata\\local\\programs\\python\\python311\\lib\\site-packages (from pandas>=1.0.4->prophet) (2022.7.1)\n",
            "Requirement already satisfied: tzdata>=2022.1 in c:\\users\\ajayv\\appdata\\local\\programs\\python\\python311\\lib\\site-packages (from pandas>=1.0.4->prophet) (2022.7)\n",
            "Requirement already satisfied: colorama in c:\\users\\ajayv\\appdata\\local\\programs\\python\\python311\\lib\\site-packages (from tqdm>=4.36.1->prophet) (0.4.6)\n",
            "Requirement already satisfied: six>=1.5 in c:\\users\\ajayv\\appdata\\local\\programs\\python\\python311\\lib\\site-packages (from python-dateutil->holidays>=0.25->prophet) (1.16.0)\n",
            "\n"
          ]
        },
        {
          "name": "stderr",
          "output_type": "stream",
          "text": [
            "\n",
            "[notice] A new release of pip is available: 23.0.1 -> 23.3.1\n",
            "[notice] To update, run: python.exe -m pip install --upgrade pip\n"
          ]
        }
      ],
      "source": [
        "pip install prophet"
      ]
    },
    {
      "cell_type": "code",
      "execution_count": 3,
      "metadata": {
        "id": "PW0SjzvKe414"
      },
      "outputs": [],
      "source": [
        "#step-1: extract bitcoin prices: yf"
      ]
    },
    {
      "cell_type": "code",
      "execution_count": 4,
      "metadata": {
        "colab": {
          "base_uri": "https://localhost:8080/"
        },
        "id": "CBgfu3IQfJwv",
        "outputId": "58777d73-35fd-4252-ff49-b2229a4af10d"
      },
      "outputs": [
        {
          "name": "stdout",
          "output_type": "stream",
          "text": [
            "Requirement already satisfied: yfinance in c:\\users\\ajayv\\appdata\\local\\programs\\python\\python311\\lib\\site-packages (0.2.31)\n",
            "Requirement already satisfied: pandas>=1.3.0 in c:\\users\\ajayv\\appdata\\local\\programs\\python\\python311\\lib\\site-packages (from yfinance) (2.1.1)\n",
            "Requirement already satisfied: numpy>=1.16.5 in c:\\users\\ajayv\\appdata\\local\\programs\\python\\python311\\lib\\site-packages (from yfinance) (1.23.5)\n",
            "Requirement already satisfied: requests>=2.31 in c:\\users\\ajayv\\appdata\\local\\programs\\python\\python311\\lib\\site-packages (from yfinance) (2.31.0)\n",
            "Requirement already satisfied: multitasking>=0.0.7 in c:\\users\\ajayv\\appdata\\local\\programs\\python\\python311\\lib\\site-packages (from yfinance) (0.0.11)\n",
            "Requirement already satisfied: lxml>=4.9.1 in c:\\users\\ajayv\\appdata\\local\\programs\\python\\python311\\lib\\site-packages (from yfinance) (4.9.3)\n",
            "Requirement already satisfied: appdirs>=1.4.4 in c:\\users\\ajayv\\appdata\\local\\programs\\python\\python311\\lib\\site-packages (from yfinance) (1.4.4)\n",
            "Requirement already satisfied: pytz>=2022.5 in c:\\users\\ajayv\\appdata\\local\\programs\\python\\python311\\lib\\site-packages (from yfinance) (2022.7.1)\n",
            "Requirement already satisfied: frozendict>=2.3.4 in c:\\users\\ajayv\\appdata\\local\\programs\\python\\python311\\lib\\site-packages (from yfinance) (2.3.8)\n",
            "Requirement already satisfied: peewee>=3.16.2 in c:\\users\\ajayv\\appdata\\local\\programs\\python\\python311\\lib\\site-packages (from yfinance) (3.17.0)\n",
            "Requirement already satisfied: beautifulsoup4>=4.11.1 in c:\\users\\ajayv\\appdata\\local\\programs\\python\\python311\\lib\\site-packages (from yfinance) (4.12.0)\n",
            "Requirement already satisfied: html5lib>=1.1 in c:\\users\\ajayv\\appdata\\local\\programs\\python\\python311\\lib\\site-packages (from yfinance) (1.1)\n",
            "Requirement already satisfied: soupsieve>1.2 in c:\\users\\ajayv\\appdata\\local\\programs\\python\\python311\\lib\\site-packages (from beautifulsoup4>=4.11.1->yfinance) (2.4)\n",
            "Requirement already satisfied: six>=1.9 in c:\\users\\ajayv\\appdata\\local\\programs\\python\\python311\\lib\\site-packages (from html5lib>=1.1->yfinance) (1.16.0)\n",
            "Requirement already satisfied: webencodings in c:\\users\\ajayv\\appdata\\local\\programs\\python\\python311\\lib\\site-packages (from html5lib>=1.1->yfinance) (0.5.1)\n",
            "Requirement already satisfied: python-dateutil>=2.8.2 in c:\\users\\ajayv\\appdata\\roaming\\python\\python311\\site-packages (from pandas>=1.3.0->yfinance) (2.8.2)\n",
            "Requirement already satisfied: tzdata>=2022.1 in c:\\users\\ajayv\\appdata\\local\\programs\\python\\python311\\lib\\site-packages (from pandas>=1.3.0->yfinance) (2022.7)\n",
            "Requirement already satisfied: charset-normalizer<4,>=2 in c:\\users\\ajayv\\appdata\\local\\programs\\python\\python311\\lib\\site-packages (from requests>=2.31->yfinance) (3.0.1)\n",
            "Requirement already satisfied: idna<4,>=2.5 in c:\\users\\ajayv\\appdata\\local\\programs\\python\\python311\\lib\\site-packages (from requests>=2.31->yfinance) (3.4)\n",
            "Requirement already satisfied: urllib3<3,>=1.21.1 in c:\\users\\ajayv\\appdata\\local\\programs\\python\\python311\\lib\\site-packages (from requests>=2.31->yfinance) (1.26.14)\n",
            "Requirement already satisfied: certifi>=2017.4.17 in c:\\users\\ajayv\\appdata\\local\\programs\\python\\python311\\lib\\site-packages (from requests>=2.31->yfinance) (2022.12.7)\n",
            "Note: you may need to restart the kernel to use updated packages.\n"
          ]
        },
        {
          "name": "stderr",
          "output_type": "stream",
          "text": [
            "\n",
            "[notice] A new release of pip is available: 23.0.1 -> 23.3.1\n",
            "[notice] To update, run: python.exe -m pip install --upgrade pip\n"
          ]
        }
      ],
      "source": [
        "pip install yfinance"
      ]
    },
    {
      "cell_type": "code",
      "execution_count": 5,
      "metadata": {
        "colab": {
          "base_uri": "https://localhost:8080/"
        },
        "id": "y0vS7v88fOUI",
        "outputId": "2d7ee303-82f6-4c2c-e7c4-e0119b2158a6"
      },
      "outputs": [
        {
          "name": "stdout",
          "output_type": "stream",
          "text": [
            "Collecting fbprophet\n",
            "  Using cached fbprophet-0.7.1.tar.gz (64 kB)\n",
            "  Preparing metadata (setup.py): started\n",
            "  Preparing metadata (setup.py): finished with status 'done'\n",
            "Collecting Cython>=0.22\n",
            "  Using cached Cython-3.0.4-cp311-cp311-win_amd64.whl (2.8 MB)\n",
            "Collecting cmdstanpy==0.9.5\n",
            "  Using cached cmdstanpy-0.9.5-py3-none-any.whl (37 kB)\n",
            "Collecting pystan>=2.14\n",
            "  Using cached pystan-3.7.0-py3-none-any.whl (13 kB)\n",
            "Requirement already satisfied: numpy>=1.15.4 in c:\\users\\ajayv\\appdata\\local\\programs\\python\\python311\\lib\\site-packages (from fbprophet) (1.23.5)\n",
            "Requirement already satisfied: pandas>=1.0.4 in c:\\users\\ajayv\\appdata\\local\\programs\\python\\python311\\lib\\site-packages (from fbprophet) (2.1.1)\n",
            "Requirement already satisfied: matplotlib>=2.0.0 in c:\\users\\ajayv\\appdata\\local\\programs\\python\\python311\\lib\\site-packages (from fbprophet) (3.8.0)\n",
            "Collecting LunarCalendar>=0.0.9\n",
            "  Using cached LunarCalendar-0.0.9-py2.py3-none-any.whl (18 kB)\n",
            "Collecting convertdate>=2.1.2\n",
            "  Using cached convertdate-2.4.0-py3-none-any.whl (47 kB)\n",
            "Requirement already satisfied: holidays>=0.10.2 in c:\\users\\ajayv\\appdata\\local\\programs\\python\\python311\\lib\\site-packages (from fbprophet) (0.35)\n",
            "Collecting setuptools-git>=1.2\n",
            "  Using cached setuptools_git-1.2-py2.py3-none-any.whl (10 kB)\n",
            "Requirement already satisfied: python-dateutil>=2.8.0 in c:\\users\\ajayv\\appdata\\roaming\\python\\python311\\site-packages (from fbprophet) (2.8.2)\n",
            "Requirement already satisfied: tqdm>=4.36.1 in c:\\users\\ajayv\\appdata\\local\\programs\\python\\python311\\lib\\site-packages (from fbprophet) (4.64.1)\n",
            "Collecting pymeeus<=1,>=0.3.13\n",
            "  Using cached PyMeeus-0.5.12.tar.gz (5.8 MB)\n",
            "  Preparing metadata (setup.py): started\n",
            "  Preparing metadata (setup.py): finished with status 'done'\n",
            "Collecting ephem>=3.7.5.3\n",
            "  Using cached ephem-4.1.5-cp311-cp311-win_amd64.whl (1.4 MB)\n",
            "Requirement already satisfied: pytz in c:\\users\\ajayv\\appdata\\local\\programs\\python\\python311\\lib\\site-packages (from LunarCalendar>=0.0.9->fbprophet) (2022.7.1)\n",
            "Requirement already satisfied: contourpy>=1.0.1 in c:\\users\\ajayv\\appdata\\local\\programs\\python\\python311\\lib\\site-packages (from matplotlib>=2.0.0->fbprophet) (1.1.1)\n",
            "Requirement already satisfied: cycler>=0.10 in c:\\users\\ajayv\\appdata\\local\\programs\\python\\python311\\lib\\site-packages (from matplotlib>=2.0.0->fbprophet) (0.12.1)\n",
            "Requirement already satisfied: fonttools>=4.22.0 in c:\\users\\ajayv\\appdata\\local\\programs\\python\\python311\\lib\\site-packages (from matplotlib>=2.0.0->fbprophet) (4.43.1)\n",
            "Requirement already satisfied: kiwisolver>=1.0.1 in c:\\users\\ajayv\\appdata\\local\\programs\\python\\python311\\lib\\site-packages (from matplotlib>=2.0.0->fbprophet) (1.4.5)\n",
            "Requirement already satisfied: packaging>=20.0 in c:\\users\\ajayv\\appdata\\local\\programs\\python\\python311\\lib\\site-packages (from matplotlib>=2.0.0->fbprophet) (23.0)\n",
            "Requirement already satisfied: pillow>=6.2.0 in c:\\users\\ajayv\\appdata\\local\\programs\\python\\python311\\lib\\site-packages (from matplotlib>=2.0.0->fbprophet) (10.1.0)\n",
            "Requirement already satisfied: pyparsing>=2.3.1 in c:\\users\\ajayv\\appdata\\local\\programs\\python\\python311\\lib\\site-packages (from matplotlib>=2.0.0->fbprophet) (3.1.1)\n",
            "Requirement already satisfied: tzdata>=2022.1 in c:\\users\\ajayv\\appdata\\local\\programs\\python\\python311\\lib\\site-packages (from pandas>=1.0.4->fbprophet) (2022.7)\n",
            "Collecting aiohttp<4.0,>=3.6\n",
            "  Using cached aiohttp-3.8.6-cp311-cp311-win_amd64.whl (322 kB)\n",
            "Collecting clikit<0.7,>=0.6\n",
            "  Using cached clikit-0.6.2-py2.py3-none-any.whl (91 kB)\n",
            "Collecting pystan>=2.14\n",
            "  Using cached pystan-3.6.0-py3-none-any.whl (13 kB)\n",
            "  Using cached pystan-3.5.0-py3-none-any.whl (13 kB)\n",
            "  Using cached pystan-3.4.0-py3-none-any.whl (13 kB)\n",
            "  Using cached pystan-3.3.0-py3-none-any.whl (13 kB)\n",
            "  Using cached pystan-3.2.0-py3-none-any.whl (13 kB)\n",
            "  Using cached pystan-3.1.1-py3-none-any.whl (13 kB)\n",
            "  Using cached pystan-3.1.0-py3-none-any.whl (13 kB)\n",
            "  Using cached pystan-3.0.2-py3-none-any.whl (13 kB)\n",
            "  Using cached pystan-3.0.1-py3-none-any.whl (12 kB)\n",
            "  Using cached pystan-3.0.0-py3-none-any.whl (12 kB)\n",
            "  Using cached pystan-2.19.1.1.tar.gz (16.2 MB)\n",
            "  Preparing metadata (setup.py): started\n",
            "  Preparing metadata (setup.py): finished with status 'error'\n",
            "Note: you may need to restart the kernel to use updated packages.\n"
          ]
        },
        {
          "name": "stderr",
          "output_type": "stream",
          "text": [
            "  error: subprocess-exited-with-error\n",
            "  \n",
            "  × python setup.py egg_info did not run successfully.\n",
            "  │ exit code: 1\n",
            "  ╰─> [6 lines of output]\n",
            "      Traceback (most recent call last):\n",
            "        File \"<string>\", line 2, in <module>\n",
            "        File \"<pip-setuptools-caller>\", line 34, in <module>\n",
            "        File \"C:\\Users\\ajayv\\AppData\\Local\\Temp\\pip-install-cqvl5ade\\pystan_cd657bed0c144e77863de02711408c41\\setup.py\", line 122, in <module>\n",
            "          from Cython.Build.Inline import _get_build_extension\n",
            "      ModuleNotFoundError: No module named 'Cython'\n",
            "      [end of output]\n",
            "  \n",
            "  note: This error originates from a subprocess, and is likely not a problem with pip.\n",
            "error: metadata-generation-failed\n",
            "\n",
            "× Encountered error while generating package metadata.\n",
            "╰─> See above for output.\n",
            "\n",
            "note: This is an issue with the package mentioned above, not pip.\n",
            "hint: See above for details.\n",
            "\n",
            "[notice] A new release of pip is available: 23.0.1 -> 23.3.1\n",
            "[notice] To update, run: python.exe -m pip install --upgrade pip\n"
          ]
        }
      ],
      "source": [
        "pip install fbprophet"
      ]
    },
    {
      "cell_type": "code",
      "execution_count": 6,
      "metadata": {
        "id": "PLXOR5kXfgcA"
      },
      "outputs": [
        {
          "name": "stderr",
          "output_type": "stream",
          "text": [
            "c:\\Users\\ajayv\\AppData\\Local\\Programs\\Python\\Python311\\Lib\\site-packages\\tqdm\\auto.py:22: TqdmWarning: IProgress not found. Please update jupyter and ipywidgets. See https://ipywidgets.readthedocs.io/en/stable/user_install.html\n",
            "  from .autonotebook import tqdm as notebook_tqdm\n",
            "Importing plotly failed. Interactive plots will not work.\n"
          ]
        }
      ],
      "source": [
        "from prophet import Prophet\n",
        "import pandas as pd\n",
        "import matplotlib.pyplot as plt\n",
        "import yfinance as yf"
      ]
    },
    {
      "cell_type": "code",
      "execution_count": 7,
      "metadata": {
        "colab": {
          "base_uri": "https://localhost:8080/"
        },
        "id": "8YeP0hxVfq5C",
        "outputId": "7110ebcd-84bb-4fee-c385-8470ec55f513"
      },
      "outputs": [
        {
          "name": "stdout",
          "output_type": "stream",
          "text": [
            "[*********************100%%**********************]  1 of 1 completed\n"
          ]
        }
      ],
      "source": [
        "df=yf.download('BTC-USD')"
      ]
    },
    {
      "cell_type": "code",
      "execution_count": 8,
      "metadata": {
        "colab": {
          "base_uri": "https://localhost:8080/",
          "height": 454
        },
        "id": "sfVwUMFpgd6q",
        "outputId": "8819a5b2-e8fa-4fd3-a3af-4b29c0d33975"
      },
      "outputs": [
        {
          "data": {
            "text/html": [
              "<div>\n",
              "<style scoped>\n",
              "    .dataframe tbody tr th:only-of-type {\n",
              "        vertical-align: middle;\n",
              "    }\n",
              "\n",
              "    .dataframe tbody tr th {\n",
              "        vertical-align: top;\n",
              "    }\n",
              "\n",
              "    .dataframe thead th {\n",
              "        text-align: right;\n",
              "    }\n",
              "</style>\n",
              "<table border=\"1\" class=\"dataframe\">\n",
              "  <thead>\n",
              "    <tr style=\"text-align: right;\">\n",
              "      <th></th>\n",
              "      <th>Open</th>\n",
              "      <th>High</th>\n",
              "      <th>Low</th>\n",
              "      <th>Close</th>\n",
              "      <th>Adj Close</th>\n",
              "      <th>Volume</th>\n",
              "    </tr>\n",
              "    <tr>\n",
              "      <th>Date</th>\n",
              "      <th></th>\n",
              "      <th></th>\n",
              "      <th></th>\n",
              "      <th></th>\n",
              "      <th></th>\n",
              "      <th></th>\n",
              "    </tr>\n",
              "  </thead>\n",
              "  <tbody>\n",
              "    <tr>\n",
              "      <th>2014-09-17</th>\n",
              "      <td>465.864014</td>\n",
              "      <td>468.174011</td>\n",
              "      <td>452.421997</td>\n",
              "      <td>457.334015</td>\n",
              "      <td>457.334015</td>\n",
              "      <td>21056800</td>\n",
              "    </tr>\n",
              "    <tr>\n",
              "      <th>2014-09-18</th>\n",
              "      <td>456.859985</td>\n",
              "      <td>456.859985</td>\n",
              "      <td>413.104004</td>\n",
              "      <td>424.440002</td>\n",
              "      <td>424.440002</td>\n",
              "      <td>34483200</td>\n",
              "    </tr>\n",
              "    <tr>\n",
              "      <th>2014-09-19</th>\n",
              "      <td>424.102997</td>\n",
              "      <td>427.834991</td>\n",
              "      <td>384.532013</td>\n",
              "      <td>394.795990</td>\n",
              "      <td>394.795990</td>\n",
              "      <td>37919700</td>\n",
              "    </tr>\n",
              "    <tr>\n",
              "      <th>2014-09-20</th>\n",
              "      <td>394.673004</td>\n",
              "      <td>423.295990</td>\n",
              "      <td>389.882996</td>\n",
              "      <td>408.903992</td>\n",
              "      <td>408.903992</td>\n",
              "      <td>36863600</td>\n",
              "    </tr>\n",
              "    <tr>\n",
              "      <th>2014-09-21</th>\n",
              "      <td>408.084991</td>\n",
              "      <td>412.425995</td>\n",
              "      <td>393.181000</td>\n",
              "      <td>398.821014</td>\n",
              "      <td>398.821014</td>\n",
              "      <td>26580100</td>\n",
              "    </tr>\n",
              "    <tr>\n",
              "      <th>...</th>\n",
              "      <td>...</td>\n",
              "      <td>...</td>\n",
              "      <td>...</td>\n",
              "      <td>...</td>\n",
              "      <td>...</td>\n",
              "      <td>...</td>\n",
              "    </tr>\n",
              "    <tr>\n",
              "      <th>2023-10-26</th>\n",
              "      <td>34504.289062</td>\n",
              "      <td>34832.910156</td>\n",
              "      <td>33762.324219</td>\n",
              "      <td>34156.648438</td>\n",
              "      <td>34156.648438</td>\n",
              "      <td>19427195376</td>\n",
              "    </tr>\n",
              "    <tr>\n",
              "      <th>2023-10-27</th>\n",
              "      <td>34156.500000</td>\n",
              "      <td>34238.210938</td>\n",
              "      <td>33416.886719</td>\n",
              "      <td>33909.800781</td>\n",
              "      <td>33909.800781</td>\n",
              "      <td>16418032871</td>\n",
              "    </tr>\n",
              "    <tr>\n",
              "      <th>2023-10-28</th>\n",
              "      <td>33907.722656</td>\n",
              "      <td>34399.390625</td>\n",
              "      <td>33874.804688</td>\n",
              "      <td>34089.574219</td>\n",
              "      <td>34089.574219</td>\n",
              "      <td>10160330825</td>\n",
              "    </tr>\n",
              "    <tr>\n",
              "      <th>2023-10-29</th>\n",
              "      <td>34089.371094</td>\n",
              "      <td>34743.261719</td>\n",
              "      <td>33947.566406</td>\n",
              "      <td>34538.480469</td>\n",
              "      <td>34538.480469</td>\n",
              "      <td>11160323986</td>\n",
              "    </tr>\n",
              "    <tr>\n",
              "      <th>2023-10-30</th>\n",
              "      <td>34531.742188</td>\n",
              "      <td>34819.203125</td>\n",
              "      <td>34198.402344</td>\n",
              "      <td>34661.988281</td>\n",
              "      <td>34661.988281</td>\n",
              "      <td>16305528832</td>\n",
              "    </tr>\n",
              "  </tbody>\n",
              "</table>\n",
              "<p>3331 rows × 6 columns</p>\n",
              "</div>"
            ],
            "text/plain": [
              "                    Open          High           Low         Close  \\\n",
              "Date                                                                 \n",
              "2014-09-17    465.864014    468.174011    452.421997    457.334015   \n",
              "2014-09-18    456.859985    456.859985    413.104004    424.440002   \n",
              "2014-09-19    424.102997    427.834991    384.532013    394.795990   \n",
              "2014-09-20    394.673004    423.295990    389.882996    408.903992   \n",
              "2014-09-21    408.084991    412.425995    393.181000    398.821014   \n",
              "...                  ...           ...           ...           ...   \n",
              "2023-10-26  34504.289062  34832.910156  33762.324219  34156.648438   \n",
              "2023-10-27  34156.500000  34238.210938  33416.886719  33909.800781   \n",
              "2023-10-28  33907.722656  34399.390625  33874.804688  34089.574219   \n",
              "2023-10-29  34089.371094  34743.261719  33947.566406  34538.480469   \n",
              "2023-10-30  34531.742188  34819.203125  34198.402344  34661.988281   \n",
              "\n",
              "               Adj Close       Volume  \n",
              "Date                                   \n",
              "2014-09-17    457.334015     21056800  \n",
              "2014-09-18    424.440002     34483200  \n",
              "2014-09-19    394.795990     37919700  \n",
              "2014-09-20    408.903992     36863600  \n",
              "2014-09-21    398.821014     26580100  \n",
              "...                  ...          ...  \n",
              "2023-10-26  34156.648438  19427195376  \n",
              "2023-10-27  33909.800781  16418032871  \n",
              "2023-10-28  34089.574219  10160330825  \n",
              "2023-10-29  34538.480469  11160323986  \n",
              "2023-10-30  34661.988281  16305528832  \n",
              "\n",
              "[3331 rows x 6 columns]"
            ]
          },
          "execution_count": 8,
          "metadata": {},
          "output_type": "execute_result"
        }
      ],
      "source": [
        "df"
      ]
    },
    {
      "cell_type": "code",
      "execution_count": 9,
      "metadata": {
        "id": "pBNOx29ygf59"
      },
      "outputs": [],
      "source": [
        "df.reset_index(inplace=True)\n",
        "df=df[['Date','Adj Close']]"
      ]
    },
    {
      "cell_type": "code",
      "execution_count": 10,
      "metadata": {
        "colab": {
          "base_uri": "https://localhost:8080/",
          "height": 423
        },
        "id": "O2CUochtg1oo",
        "outputId": "f7e526f9-44a4-471d-f2eb-52a041f970f3"
      },
      "outputs": [
        {
          "data": {
            "text/html": [
              "<div>\n",
              "<style scoped>\n",
              "    .dataframe tbody tr th:only-of-type {\n",
              "        vertical-align: middle;\n",
              "    }\n",
              "\n",
              "    .dataframe tbody tr th {\n",
              "        vertical-align: top;\n",
              "    }\n",
              "\n",
              "    .dataframe thead th {\n",
              "        text-align: right;\n",
              "    }\n",
              "</style>\n",
              "<table border=\"1\" class=\"dataframe\">\n",
              "  <thead>\n",
              "    <tr style=\"text-align: right;\">\n",
              "      <th></th>\n",
              "      <th>Date</th>\n",
              "      <th>Adj Close</th>\n",
              "    </tr>\n",
              "  </thead>\n",
              "  <tbody>\n",
              "    <tr>\n",
              "      <th>0</th>\n",
              "      <td>2014-09-17</td>\n",
              "      <td>457.334015</td>\n",
              "    </tr>\n",
              "    <tr>\n",
              "      <th>1</th>\n",
              "      <td>2014-09-18</td>\n",
              "      <td>424.440002</td>\n",
              "    </tr>\n",
              "    <tr>\n",
              "      <th>2</th>\n",
              "      <td>2014-09-19</td>\n",
              "      <td>394.795990</td>\n",
              "    </tr>\n",
              "    <tr>\n",
              "      <th>3</th>\n",
              "      <td>2014-09-20</td>\n",
              "      <td>408.903992</td>\n",
              "    </tr>\n",
              "    <tr>\n",
              "      <th>4</th>\n",
              "      <td>2014-09-21</td>\n",
              "      <td>398.821014</td>\n",
              "    </tr>\n",
              "    <tr>\n",
              "      <th>...</th>\n",
              "      <td>...</td>\n",
              "      <td>...</td>\n",
              "    </tr>\n",
              "    <tr>\n",
              "      <th>3326</th>\n",
              "      <td>2023-10-26</td>\n",
              "      <td>34156.648438</td>\n",
              "    </tr>\n",
              "    <tr>\n",
              "      <th>3327</th>\n",
              "      <td>2023-10-27</td>\n",
              "      <td>33909.800781</td>\n",
              "    </tr>\n",
              "    <tr>\n",
              "      <th>3328</th>\n",
              "      <td>2023-10-28</td>\n",
              "      <td>34089.574219</td>\n",
              "    </tr>\n",
              "    <tr>\n",
              "      <th>3329</th>\n",
              "      <td>2023-10-29</td>\n",
              "      <td>34538.480469</td>\n",
              "    </tr>\n",
              "    <tr>\n",
              "      <th>3330</th>\n",
              "      <td>2023-10-30</td>\n",
              "      <td>34661.988281</td>\n",
              "    </tr>\n",
              "  </tbody>\n",
              "</table>\n",
              "<p>3331 rows × 2 columns</p>\n",
              "</div>"
            ],
            "text/plain": [
              "           Date     Adj Close\n",
              "0    2014-09-17    457.334015\n",
              "1    2014-09-18    424.440002\n",
              "2    2014-09-19    394.795990\n",
              "3    2014-09-20    408.903992\n",
              "4    2014-09-21    398.821014\n",
              "...         ...           ...\n",
              "3326 2023-10-26  34156.648438\n",
              "3327 2023-10-27  33909.800781\n",
              "3328 2023-10-28  34089.574219\n",
              "3329 2023-10-29  34538.480469\n",
              "3330 2023-10-30  34661.988281\n",
              "\n",
              "[3331 rows x 2 columns]"
            ]
          },
          "execution_count": 10,
          "metadata": {},
          "output_type": "execute_result"
        }
      ],
      "source": [
        "df"
      ]
    },
    {
      "cell_type": "code",
      "execution_count": 11,
      "metadata": {
        "id": "xk5j00Kwg2ci"
      },
      "outputs": [],
      "source": [
        "df.columns=['ds','y']"
      ]
    },
    {
      "cell_type": "code",
      "execution_count": 12,
      "metadata": {
        "colab": {
          "base_uri": "https://localhost:8080/",
          "height": 423
        },
        "id": "61gr4LQKg-68",
        "outputId": "272a4e8d-be43-4ed2-fefc-1a7ac8e9a61c"
      },
      "outputs": [
        {
          "data": {
            "text/html": [
              "<div>\n",
              "<style scoped>\n",
              "    .dataframe tbody tr th:only-of-type {\n",
              "        vertical-align: middle;\n",
              "    }\n",
              "\n",
              "    .dataframe tbody tr th {\n",
              "        vertical-align: top;\n",
              "    }\n",
              "\n",
              "    .dataframe thead th {\n",
              "        text-align: right;\n",
              "    }\n",
              "</style>\n",
              "<table border=\"1\" class=\"dataframe\">\n",
              "  <thead>\n",
              "    <tr style=\"text-align: right;\">\n",
              "      <th></th>\n",
              "      <th>ds</th>\n",
              "      <th>y</th>\n",
              "    </tr>\n",
              "  </thead>\n",
              "  <tbody>\n",
              "    <tr>\n",
              "      <th>0</th>\n",
              "      <td>2014-09-17</td>\n",
              "      <td>457.334015</td>\n",
              "    </tr>\n",
              "    <tr>\n",
              "      <th>1</th>\n",
              "      <td>2014-09-18</td>\n",
              "      <td>424.440002</td>\n",
              "    </tr>\n",
              "    <tr>\n",
              "      <th>2</th>\n",
              "      <td>2014-09-19</td>\n",
              "      <td>394.795990</td>\n",
              "    </tr>\n",
              "    <tr>\n",
              "      <th>3</th>\n",
              "      <td>2014-09-20</td>\n",
              "      <td>408.903992</td>\n",
              "    </tr>\n",
              "    <tr>\n",
              "      <th>4</th>\n",
              "      <td>2014-09-21</td>\n",
              "      <td>398.821014</td>\n",
              "    </tr>\n",
              "    <tr>\n",
              "      <th>...</th>\n",
              "      <td>...</td>\n",
              "      <td>...</td>\n",
              "    </tr>\n",
              "    <tr>\n",
              "      <th>3326</th>\n",
              "      <td>2023-10-26</td>\n",
              "      <td>34156.648438</td>\n",
              "    </tr>\n",
              "    <tr>\n",
              "      <th>3327</th>\n",
              "      <td>2023-10-27</td>\n",
              "      <td>33909.800781</td>\n",
              "    </tr>\n",
              "    <tr>\n",
              "      <th>3328</th>\n",
              "      <td>2023-10-28</td>\n",
              "      <td>34089.574219</td>\n",
              "    </tr>\n",
              "    <tr>\n",
              "      <th>3329</th>\n",
              "      <td>2023-10-29</td>\n",
              "      <td>34538.480469</td>\n",
              "    </tr>\n",
              "    <tr>\n",
              "      <th>3330</th>\n",
              "      <td>2023-10-30</td>\n",
              "      <td>34661.988281</td>\n",
              "    </tr>\n",
              "  </tbody>\n",
              "</table>\n",
              "<p>3331 rows × 2 columns</p>\n",
              "</div>"
            ],
            "text/plain": [
              "             ds             y\n",
              "0    2014-09-17    457.334015\n",
              "1    2014-09-18    424.440002\n",
              "2    2014-09-19    394.795990\n",
              "3    2014-09-20    408.903992\n",
              "4    2014-09-21    398.821014\n",
              "...         ...           ...\n",
              "3326 2023-10-26  34156.648438\n",
              "3327 2023-10-27  33909.800781\n",
              "3328 2023-10-28  34089.574219\n",
              "3329 2023-10-29  34538.480469\n",
              "3330 2023-10-30  34661.988281\n",
              "\n",
              "[3331 rows x 2 columns]"
            ]
          },
          "execution_count": 12,
          "metadata": {},
          "output_type": "execute_result"
        }
      ],
      "source": [
        "df"
      ]
    },
    {
      "cell_type": "code",
      "execution_count": 13,
      "metadata": {
        "id": "1W_93-Isg_UW"
      },
      "outputs": [],
      "source": [
        "model=Prophet()"
      ]
    },
    {
      "cell_type": "code",
      "execution_count": 14,
      "metadata": {
        "colab": {
          "base_uri": "https://localhost:8080/"
        },
        "id": "xiu_nI-IhRAd",
        "outputId": "7a6674ec-0aa3-4d0d-c817-8c61088f9251"
      },
      "outputs": [
        {
          "name": "stderr",
          "output_type": "stream",
          "text": [
            "20:35:20 - cmdstanpy - INFO - Chain [1] start processing\n",
            "20:35:22 - cmdstanpy - INFO - Chain [1] done processing\n"
          ]
        },
        {
          "data": {
            "text/plain": [
              "<prophet.forecaster.Prophet at 0x18705e5fbd0>"
            ]
          },
          "execution_count": 14,
          "metadata": {},
          "output_type": "execute_result"
        }
      ],
      "source": [
        "model.fit(df)"
      ]
    },
    {
      "cell_type": "code",
      "execution_count": 25,
      "metadata": {},
      "outputs": [],
      "source": [
        "import pickle\n",
        "with open('bitcoin.pkl','wb') as f:\n",
        "    pickle.dump(model,f)"
      ]
    },
    {
      "cell_type": "code",
      "execution_count": 15,
      "metadata": {
        "colab": {
          "base_uri": "https://localhost:8080/"
        },
        "id": "8Q-Lui9ahS4E",
        "outputId": "69db2b51-f5f4-4c2c-eff2-d92c02cb859e"
      },
      "outputs": [
        {
          "data": {
            "text/plain": [
              "{'additive': ['yearly',\n",
              "  'weekly',\n",
              "  'additive_terms',\n",
              "  'extra_regressors_additive',\n",
              "  'holidays'],\n",
              " 'multiplicative': ['multiplicative_terms', 'extra_regressors_multiplicative']}"
            ]
          },
          "execution_count": 15,
          "metadata": {},
          "output_type": "execute_result"
        }
      ],
      "source": [
        "model.component_modes"
      ]
    },
    {
      "cell_type": "code",
      "execution_count": 16,
      "metadata": {
        "colab": {
          "base_uri": "https://localhost:8080/",
          "height": 206
        },
        "id": "8WXAQmpGhj_D",
        "outputId": "04c4cc0c-3b7e-4ec6-ed70-eb9b01becc40"
      },
      "outputs": [
        {
          "data": {
            "text/html": [
              "<div>\n",
              "<style scoped>\n",
              "    .dataframe tbody tr th:only-of-type {\n",
              "        vertical-align: middle;\n",
              "    }\n",
              "\n",
              "    .dataframe tbody tr th {\n",
              "        vertical-align: top;\n",
              "    }\n",
              "\n",
              "    .dataframe thead th {\n",
              "        text-align: right;\n",
              "    }\n",
              "</style>\n",
              "<table border=\"1\" class=\"dataframe\">\n",
              "  <thead>\n",
              "    <tr style=\"text-align: right;\">\n",
              "      <th></th>\n",
              "      <th>ds</th>\n",
              "      <th>y</th>\n",
              "    </tr>\n",
              "  </thead>\n",
              "  <tbody>\n",
              "    <tr>\n",
              "      <th>3326</th>\n",
              "      <td>2023-10-26</td>\n",
              "      <td>34156.648438</td>\n",
              "    </tr>\n",
              "    <tr>\n",
              "      <th>3327</th>\n",
              "      <td>2023-10-27</td>\n",
              "      <td>33909.800781</td>\n",
              "    </tr>\n",
              "    <tr>\n",
              "      <th>3328</th>\n",
              "      <td>2023-10-28</td>\n",
              "      <td>34089.574219</td>\n",
              "    </tr>\n",
              "    <tr>\n",
              "      <th>3329</th>\n",
              "      <td>2023-10-29</td>\n",
              "      <td>34538.480469</td>\n",
              "    </tr>\n",
              "    <tr>\n",
              "      <th>3330</th>\n",
              "      <td>2023-10-30</td>\n",
              "      <td>34661.988281</td>\n",
              "    </tr>\n",
              "  </tbody>\n",
              "</table>\n",
              "</div>"
            ],
            "text/plain": [
              "             ds             y\n",
              "3326 2023-10-26  34156.648438\n",
              "3327 2023-10-27  33909.800781\n",
              "3328 2023-10-28  34089.574219\n",
              "3329 2023-10-29  34538.480469\n",
              "3330 2023-10-30  34661.988281"
            ]
          },
          "execution_count": 16,
          "metadata": {},
          "output_type": "execute_result"
        }
      ],
      "source": [
        "df.tail()"
      ]
    },
    {
      "cell_type": "code",
      "execution_count": 17,
      "metadata": {
        "id": "fmTrhBJyhmIP"
      },
      "outputs": [],
      "source": [
        "future_dates=model.make_future_dataframe(periods=60)"
      ]
    },
    {
      "cell_type": "code",
      "execution_count": 18,
      "metadata": {
        "colab": {
          "base_uri": "https://localhost:8080/",
          "height": 206
        },
        "id": "dN3BiDkGhzed",
        "outputId": "9ee5d7eb-d87e-4937-fef0-667ea306439d"
      },
      "outputs": [
        {
          "data": {
            "text/html": [
              "<div>\n",
              "<style scoped>\n",
              "    .dataframe tbody tr th:only-of-type {\n",
              "        vertical-align: middle;\n",
              "    }\n",
              "\n",
              "    .dataframe tbody tr th {\n",
              "        vertical-align: top;\n",
              "    }\n",
              "\n",
              "    .dataframe thead th {\n",
              "        text-align: right;\n",
              "    }\n",
              "</style>\n",
              "<table border=\"1\" class=\"dataframe\">\n",
              "  <thead>\n",
              "    <tr style=\"text-align: right;\">\n",
              "      <th></th>\n",
              "      <th>ds</th>\n",
              "    </tr>\n",
              "  </thead>\n",
              "  <tbody>\n",
              "    <tr>\n",
              "      <th>0</th>\n",
              "      <td>2014-09-17</td>\n",
              "    </tr>\n",
              "    <tr>\n",
              "      <th>1</th>\n",
              "      <td>2014-09-18</td>\n",
              "    </tr>\n",
              "    <tr>\n",
              "      <th>2</th>\n",
              "      <td>2014-09-19</td>\n",
              "    </tr>\n",
              "    <tr>\n",
              "      <th>3</th>\n",
              "      <td>2014-09-20</td>\n",
              "    </tr>\n",
              "    <tr>\n",
              "      <th>4</th>\n",
              "      <td>2014-09-21</td>\n",
              "    </tr>\n",
              "    <tr>\n",
              "      <th>...</th>\n",
              "      <td>...</td>\n",
              "    </tr>\n",
              "    <tr>\n",
              "      <th>3386</th>\n",
              "      <td>2023-12-25</td>\n",
              "    </tr>\n",
              "    <tr>\n",
              "      <th>3387</th>\n",
              "      <td>2023-12-26</td>\n",
              "    </tr>\n",
              "    <tr>\n",
              "      <th>3388</th>\n",
              "      <td>2023-12-27</td>\n",
              "    </tr>\n",
              "    <tr>\n",
              "      <th>3389</th>\n",
              "      <td>2023-12-28</td>\n",
              "    </tr>\n",
              "    <tr>\n",
              "      <th>3390</th>\n",
              "      <td>2023-12-29</td>\n",
              "    </tr>\n",
              "  </tbody>\n",
              "</table>\n",
              "<p>3391 rows × 1 columns</p>\n",
              "</div>"
            ],
            "text/plain": [
              "             ds\n",
              "0    2014-09-17\n",
              "1    2014-09-18\n",
              "2    2014-09-19\n",
              "3    2014-09-20\n",
              "4    2014-09-21\n",
              "...         ...\n",
              "3386 2023-12-25\n",
              "3387 2023-12-26\n",
              "3388 2023-12-27\n",
              "3389 2023-12-28\n",
              "3390 2023-12-29\n",
              "\n",
              "[3391 rows x 1 columns]"
            ]
          },
          "execution_count": 18,
          "metadata": {},
          "output_type": "execute_result"
        }
      ],
      "source": [
        "future_dates"
      ]
    },
    {
      "cell_type": "code",
      "execution_count": 19,
      "metadata": {},
      "outputs": [
        {
          "data": {
            "text/html": [
              "<div>\n",
              "<style scoped>\n",
              "    .dataframe tbody tr th:only-of-type {\n",
              "        vertical-align: middle;\n",
              "    }\n",
              "\n",
              "    .dataframe tbody tr th {\n",
              "        vertical-align: top;\n",
              "    }\n",
              "\n",
              "    .dataframe thead th {\n",
              "        text-align: right;\n",
              "    }\n",
              "</style>\n",
              "<table border=\"1\" class=\"dataframe\">\n",
              "  <thead>\n",
              "    <tr style=\"text-align: right;\">\n",
              "      <th></th>\n",
              "      <th>ds</th>\n",
              "    </tr>\n",
              "  </thead>\n",
              "  <tbody>\n",
              "    <tr>\n",
              "      <th>0</th>\n",
              "      <td>2014-09-17</td>\n",
              "    </tr>\n",
              "    <tr>\n",
              "      <th>1</th>\n",
              "      <td>2014-09-18</td>\n",
              "    </tr>\n",
              "    <tr>\n",
              "      <th>2</th>\n",
              "      <td>2014-09-19</td>\n",
              "    </tr>\n",
              "    <tr>\n",
              "      <th>3</th>\n",
              "      <td>2014-09-20</td>\n",
              "    </tr>\n",
              "    <tr>\n",
              "      <th>4</th>\n",
              "      <td>2014-09-21</td>\n",
              "    </tr>\n",
              "    <tr>\n",
              "      <th>...</th>\n",
              "      <td>...</td>\n",
              "    </tr>\n",
              "    <tr>\n",
              "      <th>3386</th>\n",
              "      <td>2023-12-25</td>\n",
              "    </tr>\n",
              "    <tr>\n",
              "      <th>3387</th>\n",
              "      <td>2023-12-26</td>\n",
              "    </tr>\n",
              "    <tr>\n",
              "      <th>3388</th>\n",
              "      <td>2023-12-27</td>\n",
              "    </tr>\n",
              "    <tr>\n",
              "      <th>3389</th>\n",
              "      <td>2023-12-28</td>\n",
              "    </tr>\n",
              "    <tr>\n",
              "      <th>3390</th>\n",
              "      <td>2023-12-29</td>\n",
              "    </tr>\n",
              "  </tbody>\n",
              "</table>\n",
              "<p>3391 rows × 1 columns</p>\n",
              "</div>"
            ],
            "text/plain": [
              "             ds\n",
              "0    2014-09-17\n",
              "1    2014-09-18\n",
              "2    2014-09-19\n",
              "3    2014-09-20\n",
              "4    2014-09-21\n",
              "...         ...\n",
              "3386 2023-12-25\n",
              "3387 2023-12-26\n",
              "3388 2023-12-27\n",
              "3389 2023-12-28\n",
              "3390 2023-12-29\n",
              "\n",
              "[3391 rows x 1 columns]"
            ]
          },
          "execution_count": 19,
          "metadata": {},
          "output_type": "execute_result"
        }
      ],
      "source": [
        "future_dates"
      ]
    },
    {
      "cell_type": "code",
      "execution_count": 28,
      "metadata": {},
      "outputs": [
        {
          "data": {
            "text/html": [
              "<div>\n",
              "<style scoped>\n",
              "    .dataframe tbody tr th:only-of-type {\n",
              "        vertical-align: middle;\n",
              "    }\n",
              "\n",
              "    .dataframe tbody tr th {\n",
              "        vertical-align: top;\n",
              "    }\n",
              "\n",
              "    .dataframe thead th {\n",
              "        text-align: right;\n",
              "    }\n",
              "</style>\n",
              "<table border=\"1\" class=\"dataframe\">\n",
              "  <thead>\n",
              "    <tr style=\"text-align: right;\">\n",
              "      <th></th>\n",
              "      <th>ds</th>\n",
              "      <th>trend</th>\n",
              "      <th>yhat_lower</th>\n",
              "      <th>yhat_upper</th>\n",
              "      <th>trend_lower</th>\n",
              "      <th>trend_upper</th>\n",
              "      <th>additive_terms</th>\n",
              "      <th>additive_terms_lower</th>\n",
              "      <th>additive_terms_upper</th>\n",
              "      <th>weekly</th>\n",
              "      <th>weekly_lower</th>\n",
              "      <th>weekly_upper</th>\n",
              "      <th>yearly</th>\n",
              "      <th>yearly_lower</th>\n",
              "      <th>yearly_upper</th>\n",
              "      <th>multiplicative_terms</th>\n",
              "      <th>multiplicative_terms_lower</th>\n",
              "      <th>multiplicative_terms_upper</th>\n",
              "      <th>yhat</th>\n",
              "    </tr>\n",
              "  </thead>\n",
              "  <tbody>\n",
              "    <tr>\n",
              "      <th>0</th>\n",
              "      <td>2023-11-09</td>\n",
              "      <td>18405.720497</td>\n",
              "      <td>12094.668472</td>\n",
              "      <td>25985.083766</td>\n",
              "      <td>18405.720497</td>\n",
              "      <td>18405.720497</td>\n",
              "      <td>227.528552</td>\n",
              "      <td>227.528552</td>\n",
              "      <td>227.528552</td>\n",
              "      <td>-28.396757</td>\n",
              "      <td>-28.396757</td>\n",
              "      <td>-28.396757</td>\n",
              "      <td>255.925309</td>\n",
              "      <td>255.925309</td>\n",
              "      <td>255.925309</td>\n",
              "      <td>0.0</td>\n",
              "      <td>0.0</td>\n",
              "      <td>0.0</td>\n",
              "      <td>18633.249049</td>\n",
              "    </tr>\n",
              "  </tbody>\n",
              "</table>\n",
              "</div>"
            ],
            "text/plain": [
              "          ds         trend    yhat_lower    yhat_upper   trend_lower  \\\n",
              "0 2023-11-09  18405.720497  12094.668472  25985.083766  18405.720497   \n",
              "\n",
              "    trend_upper  additive_terms  additive_terms_lower  additive_terms_upper  \\\n",
              "0  18405.720497      227.528552            227.528552            227.528552   \n",
              "\n",
              "      weekly  weekly_lower  weekly_upper      yearly  yearly_lower  \\\n",
              "0 -28.396757    -28.396757    -28.396757  255.925309    255.925309   \n",
              "\n",
              "   yearly_upper  multiplicative_terms  multiplicative_terms_lower  \\\n",
              "0    255.925309                   0.0                         0.0   \n",
              "\n",
              "   multiplicative_terms_upper          yhat  \n",
              "0                         0.0  18633.249049  "
            ]
          },
          "execution_count": 28,
          "metadata": {},
          "output_type": "execute_result"
        }
      ],
      "source": [
        "model.predict(pd.DataFrame(['2023-11-09'],columns=['ds']))"
      ]
    },
    {
      "cell_type": "code",
      "execution_count": 20,
      "metadata": {
        "id": "VYtulqqzh1F3"
      },
      "outputs": [],
      "source": [
        "prediction=model.predict(future_dates)"
      ]
    },
    {
      "cell_type": "code",
      "execution_count": 21,
      "metadata": {
        "colab": {
          "base_uri": "https://localhost:8080/",
          "height": 313
        },
        "id": "ihughXeAh5y4",
        "outputId": "cbc9b1da-3339-405b-f6b1-b9d8c1c4735a"
      },
      "outputs": [
        {
          "data": {
            "text/html": [
              "<div>\n",
              "<style scoped>\n",
              "    .dataframe tbody tr th:only-of-type {\n",
              "        vertical-align: middle;\n",
              "    }\n",
              "\n",
              "    .dataframe tbody tr th {\n",
              "        vertical-align: top;\n",
              "    }\n",
              "\n",
              "    .dataframe thead th {\n",
              "        text-align: right;\n",
              "    }\n",
              "</style>\n",
              "<table border=\"1\" class=\"dataframe\">\n",
              "  <thead>\n",
              "    <tr style=\"text-align: right;\">\n",
              "      <th></th>\n",
              "      <th>ds</th>\n",
              "      <th>trend</th>\n",
              "      <th>yhat_lower</th>\n",
              "      <th>yhat_upper</th>\n",
              "      <th>trend_lower</th>\n",
              "      <th>trend_upper</th>\n",
              "      <th>additive_terms</th>\n",
              "      <th>additive_terms_lower</th>\n",
              "      <th>additive_terms_upper</th>\n",
              "      <th>weekly</th>\n",
              "      <th>weekly_lower</th>\n",
              "      <th>weekly_upper</th>\n",
              "      <th>yearly</th>\n",
              "      <th>yearly_lower</th>\n",
              "      <th>yearly_upper</th>\n",
              "      <th>multiplicative_terms</th>\n",
              "      <th>multiplicative_terms_lower</th>\n",
              "      <th>multiplicative_terms_upper</th>\n",
              "      <th>yhat</th>\n",
              "    </tr>\n",
              "  </thead>\n",
              "  <tbody>\n",
              "    <tr>\n",
              "      <th>3386</th>\n",
              "      <td>2023-12-25</td>\n",
              "      <td>16944.652749</td>\n",
              "      <td>9221.256857</td>\n",
              "      <td>23742.777819</td>\n",
              "      <td>16687.337635</td>\n",
              "      <td>17134.887608</td>\n",
              "      <td>-378.967220</td>\n",
              "      <td>-378.967220</td>\n",
              "      <td>-378.967220</td>\n",
              "      <td>19.984506</td>\n",
              "      <td>19.984506</td>\n",
              "      <td>19.984506</td>\n",
              "      <td>-398.951726</td>\n",
              "      <td>-398.951726</td>\n",
              "      <td>-398.951726</td>\n",
              "      <td>0.0</td>\n",
              "      <td>0.0</td>\n",
              "      <td>0.0</td>\n",
              "      <td>16565.685529</td>\n",
              "    </tr>\n",
              "    <tr>\n",
              "      <th>3387</th>\n",
              "      <td>2023-12-26</td>\n",
              "      <td>16912.890406</td>\n",
              "      <td>9318.488540</td>\n",
              "      <td>23697.267600</td>\n",
              "      <td>16637.446150</td>\n",
              "      <td>17112.577803</td>\n",
              "      <td>-319.215113</td>\n",
              "      <td>-319.215113</td>\n",
              "      <td>-319.215113</td>\n",
              "      <td>-7.908192</td>\n",
              "      <td>-7.908192</td>\n",
              "      <td>-7.908192</td>\n",
              "      <td>-311.306921</td>\n",
              "      <td>-311.306921</td>\n",
              "      <td>-311.306921</td>\n",
              "      <td>0.0</td>\n",
              "      <td>0.0</td>\n",
              "      <td>0.0</td>\n",
              "      <td>16593.675293</td>\n",
              "    </tr>\n",
              "    <tr>\n",
              "      <th>3388</th>\n",
              "      <td>2023-12-27</td>\n",
              "      <td>16881.128064</td>\n",
              "      <td>9416.959830</td>\n",
              "      <td>23438.061508</td>\n",
              "      <td>16590.242413</td>\n",
              "      <td>17090.424687</td>\n",
              "      <td>-200.562476</td>\n",
              "      <td>-200.562476</td>\n",
              "      <td>-200.562476</td>\n",
              "      <td>19.999685</td>\n",
              "      <td>19.999685</td>\n",
              "      <td>19.999685</td>\n",
              "      <td>-220.562160</td>\n",
              "      <td>-220.562160</td>\n",
              "      <td>-220.562160</td>\n",
              "      <td>0.0</td>\n",
              "      <td>0.0</td>\n",
              "      <td>0.0</td>\n",
              "      <td>16680.565588</td>\n",
              "    </tr>\n",
              "    <tr>\n",
              "      <th>3389</th>\n",
              "      <td>2023-12-28</td>\n",
              "      <td>16849.365722</td>\n",
              "      <td>9557.504867</td>\n",
              "      <td>23486.737765</td>\n",
              "      <td>16543.289121</td>\n",
              "      <td>17064.853135</td>\n",
              "      <td>-156.855319</td>\n",
              "      <td>-156.855319</td>\n",
              "      <td>-156.855319</td>\n",
              "      <td>-28.396757</td>\n",
              "      <td>-28.396757</td>\n",
              "      <td>-28.396757</td>\n",
              "      <td>-128.458562</td>\n",
              "      <td>-128.458562</td>\n",
              "      <td>-128.458562</td>\n",
              "      <td>0.0</td>\n",
              "      <td>0.0</td>\n",
              "      <td>0.0</td>\n",
              "      <td>16692.510403</td>\n",
              "    </tr>\n",
              "    <tr>\n",
              "      <th>3390</th>\n",
              "      <td>2023-12-29</td>\n",
              "      <td>16817.603379</td>\n",
              "      <td>9885.385430</td>\n",
              "      <td>24196.251636</td>\n",
              "      <td>16502.657795</td>\n",
              "      <td>17036.806496</td>\n",
              "      <td>-49.511998</td>\n",
              "      <td>-49.511998</td>\n",
              "      <td>-49.511998</td>\n",
              "      <td>-12.672974</td>\n",
              "      <td>-12.672974</td>\n",
              "      <td>-12.672974</td>\n",
              "      <td>-36.839023</td>\n",
              "      <td>-36.839023</td>\n",
              "      <td>-36.839023</td>\n",
              "      <td>0.0</td>\n",
              "      <td>0.0</td>\n",
              "      <td>0.0</td>\n",
              "      <td>16768.091382</td>\n",
              "    </tr>\n",
              "  </tbody>\n",
              "</table>\n",
              "</div>"
            ],
            "text/plain": [
              "             ds         trend   yhat_lower    yhat_upper   trend_lower  \\\n",
              "3386 2023-12-25  16944.652749  9221.256857  23742.777819  16687.337635   \n",
              "3387 2023-12-26  16912.890406  9318.488540  23697.267600  16637.446150   \n",
              "3388 2023-12-27  16881.128064  9416.959830  23438.061508  16590.242413   \n",
              "3389 2023-12-28  16849.365722  9557.504867  23486.737765  16543.289121   \n",
              "3390 2023-12-29  16817.603379  9885.385430  24196.251636  16502.657795   \n",
              "\n",
              "       trend_upper  additive_terms  additive_terms_lower  \\\n",
              "3386  17134.887608     -378.967220           -378.967220   \n",
              "3387  17112.577803     -319.215113           -319.215113   \n",
              "3388  17090.424687     -200.562476           -200.562476   \n",
              "3389  17064.853135     -156.855319           -156.855319   \n",
              "3390  17036.806496      -49.511998            -49.511998   \n",
              "\n",
              "      additive_terms_upper     weekly  weekly_lower  weekly_upper      yearly  \\\n",
              "3386           -378.967220  19.984506     19.984506     19.984506 -398.951726   \n",
              "3387           -319.215113  -7.908192     -7.908192     -7.908192 -311.306921   \n",
              "3388           -200.562476  19.999685     19.999685     19.999685 -220.562160   \n",
              "3389           -156.855319 -28.396757    -28.396757    -28.396757 -128.458562   \n",
              "3390            -49.511998 -12.672974    -12.672974    -12.672974  -36.839023   \n",
              "\n",
              "      yearly_lower  yearly_upper  multiplicative_terms  \\\n",
              "3386   -398.951726   -398.951726                   0.0   \n",
              "3387   -311.306921   -311.306921                   0.0   \n",
              "3388   -220.562160   -220.562160                   0.0   \n",
              "3389   -128.458562   -128.458562                   0.0   \n",
              "3390    -36.839023    -36.839023                   0.0   \n",
              "\n",
              "      multiplicative_terms_lower  multiplicative_terms_upper          yhat  \n",
              "3386                         0.0                         0.0  16565.685529  \n",
              "3387                         0.0                         0.0  16593.675293  \n",
              "3388                         0.0                         0.0  16680.565588  \n",
              "3389                         0.0                         0.0  16692.510403  \n",
              "3390                         0.0                         0.0  16768.091382  "
            ]
          },
          "execution_count": 21,
          "metadata": {},
          "output_type": "execute_result"
        }
      ],
      "source": [
        "prediction.tail()"
      ]
    },
    {
      "cell_type": "code",
      "execution_count": 22,
      "metadata": {
        "colab": {
          "base_uri": "https://localhost:8080/",
          "height": 607
        },
        "id": "t0o3RxoOigqN",
        "outputId": "6ec5dd69-90a6-467e-d2d4-e1701ff95532"
      },
      "outputs": [
        {
          "name": "stderr",
          "output_type": "stream",
          "text": [
            "c:\\Users\\ajayv\\AppData\\Local\\Programs\\Python\\Python311\\Lib\\site-packages\\prophet\\plot.py:72: FutureWarning: The behavior of DatetimeProperties.to_pydatetime is deprecated, in a future version this will return a Series containing python datetime objects instead of an ndarray. To retain the old behavior, call `np.array` on the result\n",
            "  fcst_t = fcst['ds'].dt.to_pydatetime()\n",
            "c:\\Users\\ajayv\\AppData\\Local\\Programs\\Python\\Python311\\Lib\\site-packages\\prophet\\plot.py:73: FutureWarning: The behavior of DatetimeProperties.to_pydatetime is deprecated, in a future version this will return a Series containing python datetime objects instead of an ndarray. To retain the old behavior, call `np.array` on the result\n",
            "  ax.plot(m.history['ds'].dt.to_pydatetime(), m.history['y'], 'k.',\n"
          ]
        },
        {
          "data": {
            "image/png": "[encoded data removed]",
            "text/plain": [
              "<Figure size 1000x600 with 1 Axes>"
            ]
          },
          "metadata": {},
          "output_type": "display_data"
        }
      ],
      "source": [
        "fig=model.plot(prediction)"
      ]
    },
    {
      "cell_type": "code",
      "execution_count": 23,
      "metadata": {
        "id": "6knUWliKiumG"
      },
      "outputs": [],
      "source": [
        "#black=actual prices\n",
        "#dark blue=predicted prices\n",
        "#light blue=range of predictions (upper and lower)"
      ]
    },
    {
      "cell_type": "code",
      "execution_count": 24,
      "metadata": {
        "colab": {
          "base_uri": "https://localhost:8080/",
          "height": 617
        },
        "id": "UFbSaD5vjDkA",
        "outputId": "a641df66-16ff-40c3-f23e-e5a664a51da0"
      },
      "outputs": [
        {
          "ename": "NameError",
          "evalue": "name 'go' is not defined",
          "output_type": "error",
          "traceback": [
            "\u001b[1;31m---------------------------------------------------------------------------\u001b[0m",
            "\u001b[1;31mNameError\u001b[0m                                 Traceback (most recent call last)",
            "\u001b[1;32mc:\\Users\\ajayv\\NotBitCoin\\model\\Smartinternz_project.ipynb Cell 23\u001b[0m line \u001b[0;36m2\n\u001b[0;32m      <a href='vscode-notebook-cell:/c%3A/Users/ajayv/NotBitCoin/model/Smartinternz_project.ipynb#X31sZmlsZQ%3D%3D?line=0'>1</a>\u001b[0m \u001b[39mfrom\u001b[39;00m \u001b[39mprophet\u001b[39;00m\u001b[39m.\u001b[39;00m\u001b[39mplot\u001b[39;00m \u001b[39mimport\u001b[39;00m plot_plotly\n\u001b[1;32m----> <a href='vscode-notebook-cell:/c%3A/Users/ajayv/NotBitCoin/model/Smartinternz_project.ipynb#X31sZmlsZQ%3D%3D?line=1'>2</a>\u001b[0m plot_plotly(model,prediction)      \u001b[39m#for selecting data upto certain time\u001b[39;00m\n",
            "File \u001b[1;32mc:\\Users\\ajayv\\AppData\\Local\\Programs\\Python\\Python311\\Lib\\site-packages\\prophet\\plot.py:597\u001b[0m, in \u001b[0;36mplot_plotly\u001b[1;34m(m, fcst, uncertainty, plot_cap, trend, changepoints, changepoints_threshold, xlabel, ylabel, figsize)\u001b[0m\n\u001b[0;32m    595\u001b[0m data \u001b[39m=\u001b[39m []\n\u001b[0;32m    596\u001b[0m \u001b[39m# Add actual\u001b[39;00m\n\u001b[1;32m--> 597\u001b[0m data\u001b[39m.\u001b[39mappend(go\u001b[39m.\u001b[39mScatter(\n\u001b[0;32m    598\u001b[0m     name\u001b[39m=\u001b[39m\u001b[39m'\u001b[39m\u001b[39mActual\u001b[39m\u001b[39m'\u001b[39m,\n\u001b[0;32m    599\u001b[0m     x\u001b[39m=\u001b[39mm\u001b[39m.\u001b[39mhistory[\u001b[39m'\u001b[39m\u001b[39mds\u001b[39m\u001b[39m'\u001b[39m],\n\u001b[0;32m    600\u001b[0m     y\u001b[39m=\u001b[39mm\u001b[39m.\u001b[39mhistory[\u001b[39m'\u001b[39m\u001b[39my\u001b[39m\u001b[39m'\u001b[39m],\n\u001b[0;32m    601\u001b[0m     marker\u001b[39m=\u001b[39m\u001b[39mdict\u001b[39m(color\u001b[39m=\u001b[39mactual_color, size\u001b[39m=\u001b[39mmarker_size),\n\u001b[0;32m    602\u001b[0m     mode\u001b[39m=\u001b[39m\u001b[39m'\u001b[39m\u001b[39mmarkers\u001b[39m\u001b[39m'\u001b[39m\n\u001b[0;32m    603\u001b[0m ))\n\u001b[0;32m    604\u001b[0m \u001b[39m# Add lower bound\u001b[39;00m\n\u001b[0;32m    605\u001b[0m \u001b[39mif\u001b[39;00m uncertainty \u001b[39mand\u001b[39;00m m\u001b[39m.\u001b[39muncertainty_samples:\n",
            "\u001b[1;31mNameError\u001b[0m: name 'go' is not defined"
          ]
        }
      ],
      "source": [
        "from prophet.plot import plot_plotly\n",
        "plot_plotly(model,prediction)      #for selecting data upto certain time"
      ]
    },
    {
      "cell_type": "code",
      "execution_count": null,
      "metadata": {
        "colab": {
          "base_uri": "https://localhost:8080/",
          "height": 907
        },
        "id": "20zozgosjL_p",
        "outputId": "01dc0ed5-8667-41c2-d4d7-b79e9903eef8"
      },
      "outputs": [
        {
          "ename": "",
          "evalue": "",
          "output_type": "error",
          "traceback": [
            "\u001b[1;31mRunning cells with 'server' requires the ipykernel package.\n",
            "\u001b[1;31mRun the following command to install 'ipykernel' into the Python environment. \n",
            "\u001b[1;31mCommand: 'c:/Users/ajayv/NotBitCoin/server/Scripts/python.exe -m pip install ipykernel -U --force-reinstall'"
          ]
        }
      ],
      "source": [
        "fig2=model.plot_components(prediction)  #seasonality prediction"
      ]
    },
    {
      "cell_type": "code",
      "execution_count": null,
      "metadata": {
        "id": "KbcP89whjm9D"
      },
      "outputs": [
        {
          "ename": "",
          "evalue": "",
          "output_type": "error",
          "traceback": [
            "\u001b[1;31mRunning cells with 'server' requires the ipykernel package.\n",
            "\u001b[1;31mRun the following command to install 'ipykernel' into the Python environment. \n",
            "\u001b[1;31mCommand: 'c:/Users/ajayv/NotBitCoin/server/Scripts/python.exe -m pip install ipykernel -U --force-reinstall'"
          ]
        }
      ],
      "source": [
        "from prophet.diagnostics import cross_validation"
      ]
    },
    {
      "cell_type": "code",
      "execution_count": null,
      "metadata": {
        "colab": {
          "base_uri": "https://localhost:8080/",
          "height": 1000,
          "referenced_widgets": [
            "db2cca520b364b2abf8f77f7f0efb005",
            "eed04aa6e1094b37bd18ed44d2c67304",
            "cb3fdf990ef84bec8cd554a85d51b8f9",
            "09b6835e17f7494ca9f30818006cd6c3",
            "34ed1c7782764bd3981035628e79dec3",
            "4ed493e1314a4deb95e79b07a14441c4",
            "c61e73656238484f972339d2ff5b47d5",
            "e9654e37e09e46a2ab5c854127e15a17",
            "897969b54e3b4872bd4e00f892fe7ba8",
            "7cc5845fc610458c9f69ad8481bc0809",
            "65fecfef22474fe5851df548123453d8"
          ]
        },
        "id": "yMd1BLkFksvH",
        "outputId": "8766ed81-b595-477b-a7cd-6ed6c5f3ca68"
      },
      "outputs": [
        {
          "ename": "",
          "evalue": "",
          "output_type": "error",
          "traceback": [
            "\u001b[1;31mRunning cells with 'server' requires the ipykernel package.\n",
            "\u001b[1;31mRun the following command to install 'ipykernel' into the Python environment. \n",
            "\u001b[1;31mCommand: 'c:/Users/ajayv/NotBitCoin/server/Scripts/python.exe -m pip install ipykernel -U --force-reinstall'"
          ]
        }
      ],
      "source": [
        "df_cv=cross_validation(model,horizon='60 days')"
      ]
    },
    {
      "cell_type": "code",
      "execution_count": null,
      "metadata": {
        "colab": {
          "base_uri": "https://localhost:8080/",
          "height": 206
        },
        "id": "npKYHosZk3hT",
        "outputId": "16473b22-3ae0-43c7-8933-e481f3b433ad"
      },
      "outputs": [
        {
          "ename": "",
          "evalue": "",
          "output_type": "error",
          "traceback": [
            "\u001b[1;31mRunning cells with 'server' requires the ipykernel package.\n",
            "\u001b[1;31mRun the following command to install 'ipykernel' into the Python environment. \n",
            "\u001b[1;31mCommand: 'c:/Users/ajayv/NotBitCoin/server/Scripts/python.exe -m pip install ipykernel -U --force-reinstall'"
          ]
        }
      ],
      "source": [
        "df_cv.tail()"
      ]
    },
    {
      "cell_type": "code",
      "execution_count": null,
      "metadata": {
        "id": "xaxoFE4AlUJd"
      },
      "outputs": [
        {
          "ename": "",
          "evalue": "",
          "output_type": "error",
          "traceback": [
            "\u001b[1;31mRunning cells with 'server' requires the ipykernel package.\n",
            "\u001b[1;31mRun the following command to install 'ipykernel' into the Python environment. \n",
            "\u001b[1;31mCommand: 'c:/Users/ajayv/NotBitCoin/server/Scripts/python.exe -m pip install ipykernel -U --force-reinstall'"
          ]
        }
      ],
      "source": [
        "from prophet.diagnostics import performance_metrics"
      ]
    },
    {
      "cell_type": "code",
      "execution_count": null,
      "metadata": {
        "id": "cph2zhw5nJoE"
      },
      "outputs": [
        {
          "ename": "",
          "evalue": "",
          "output_type": "error",
          "traceback": [
            "\u001b[1;31mRunning cells with 'server' requires the ipykernel package.\n",
            "\u001b[1;31mRun the following command to install 'ipykernel' into the Python environment. \n",
            "\u001b[1;31mCommand: 'c:/Users/ajayv/NotBitCoin/server/Scripts/python.exe -m pip install ipykernel -U --force-reinstall'"
          ]
        }
      ],
      "source": [
        "df_perf=performance_metrics(df_cv)"
      ]
    },
    {
      "cell_type": "code",
      "execution_count": null,
      "metadata": {
        "colab": {
          "base_uri": "https://localhost:8080/",
          "height": 1000
        },
        "id": "_5OkMCXTnOr5",
        "outputId": "57a22c70-86fd-420f-ace4-99b36adaefe5"
      },
      "outputs": [
        {
          "ename": "",
          "evalue": "",
          "output_type": "error",
          "traceback": [
            "\u001b[1;31mRunning cells with 'server' requires the ipykernel package.\n",
            "\u001b[1;31mRun the following command to install 'ipykernel' into the Python environment. \n",
            "\u001b[1;31mCommand: 'c:/Users/ajayv/NotBitCoin/server/Scripts/python.exe -m pip install ipykernel -U --force-reinstall'"
          ]
        }
      ],
      "source": [
        "df_perf"
      ]
    },
    {
      "cell_type": "code",
      "execution_count": null,
      "metadata": {
        "colab": {
          "base_uri": "https://localhost:8080/",
          "height": 542
        },
        "id": "A8e5YRVVnP2l",
        "outputId": "5a59fbf6-9994-487c-c9b3-1af4f0c30329"
      },
      "outputs": [
        {
          "ename": "",
          "evalue": "",
          "output_type": "error",
          "traceback": [
            "\u001b[1;31mRunning cells with 'server' requires the ipykernel package.\n",
            "\u001b[1;31mRun the following command to install 'ipykernel' into the Python environment. \n",
            "\u001b[1;31mCommand: 'c:/Users/ajayv/NotBitCoin/server/Scripts/python.exe -m pip install ipykernel -U --force-reinstall'"
          ]
        }
      ],
      "source": [
        "from prophet import plot\n",
        "fig3=plot.plot_cross_validation_metric(df_cv,metric='mape')"
      ]
    },
    {
      "cell_type": "code",
      "execution_count": null,
      "metadata": {
        "id": "aIMAO_l8okLK"
      },
      "outputs": [
        {
          "ename": "",
          "evalue": "",
          "output_type": "error",
          "traceback": [
            "\u001b[1;31mRunning cells with 'server' requires the ipykernel package.\n",
            "\u001b[1;31mRun the following command to install 'ipykernel' into the Python environment. \n",
            "\u001b[1;31mCommand: 'c:/Users/ajayv/NotBitCoin/server/Scripts/python.exe -m pip install ipykernel -U --force-reinstall'"
          ]
        }
      ],
      "source": []
    }
  ],
  "metadata": {
    "colab": {
      "provenance": []
    },
    "kernelspec": {
      "display_name": "Python 3",
      "name": "python3"
    },
    "language_info": {
      "codemirror_mode": {
        "name": "ipython",
        "version": 3
      },
      "file_extension": ".py",
      "mimetype": "text/x-python",
      "name": "python",
      "nbconvert_exporter": "python",
      "pygments_lexer": "ipython3",
      "version": "3.11.1"
    },
    "widgets": {
      "application/vnd.jupyter.widget-state+json": {
        "09b6835e17f7494ca9f30818006cd6c3": {
          "model_module": "@jupyter-widgets/controls",
          "model_module_version": "1.5.0",
          "model_name": "HTMLModel",
          "state": {
            "_dom_classes": [],
            "_model_module": "@jupyter-widgets/controls",
            "_model_module_version": "1.5.0",
            "_model_name": "HTMLModel",
            "_view_count": null,
            "_view_module": "@jupyter-widgets/controls",
            "_view_module_version": "1.5.0",
            "_view_name": "HTMLView",
            "description": "",
            "description_tooltip": null,
            "layout": "IPY_MODEL_7cc5845fc610458c9f69ad8481bc0809",
            "placeholder": "​",
            "style": "IPY_MODEL_65fecfef22474fe5851df548123453d8",
            "value": " 97/97 [00:52&lt;00:00,  1.11s/it]"
          }
        },
        "34ed1c7782764bd3981035628e79dec3": {
          "model_module": "@jupyter-widgets/base",
          "model_module_version": "1.2.0",
          "model_name": "LayoutModel",
          "state": {
            "_model_module": "@jupyter-widgets/base",
            "_model_module_version": "1.2.0",
            "_model_name": "LayoutModel",
            "_view_count": null,
            "_view_module": "@jupyter-widgets/base",
            "_view_module_version": "1.2.0",
            "_view_name": "LayoutView",
            "align_content": null,
            "align_items": null,
            "align_self": null,
            "border": null,
            "bottom": null,
            "display": null,
            "flex": null,
            "flex_flow": null,
            "grid_area": null,
            "grid_auto_columns": null,
            "grid_auto_flow": null,
            "grid_auto_rows": null,
            "grid_column": null,
            "grid_gap": null,
            "grid_row": null,
            "grid_template_areas": null,
            "grid_template_columns": null,
            "grid_template_rows": null,
            "height": null,
            "justify_content": null,
            "justify_items": null,
            "left": null,
            "margin": null,
            "max_height": null,
            "max_width": null,
            "min_height": null,
            "min_width": null,
            "object_fit": null,
            "object_position": null,
            "order": null,
            "overflow": null,
            "overflow_x": null,
            "overflow_y": null,
            "padding": null,
            "right": null,
            "top": null,
            "visibility": null,
            "width": null
          }
        },
        "4ed493e1314a4deb95e79b07a14441c4": {
          "model_module": "@jupyter-widgets/base",
          "model_module_version": "1.2.0",
          "model_name": "LayoutModel",
          "state": {
            "_model_module": "@jupyter-widgets/base",
            "_model_module_version": "1.2.0",
            "_model_name": "LayoutModel",
            "_view_count": null,
            "_view_module": "@jupyter-widgets/base",
            "_view_module_version": "1.2.0",
            "_view_name": "LayoutView",
            "align_content": null,
            "align_items": null,
            "align_self": null,
            "border": null,
            "bottom": null,
            "display": null,
            "flex": null,
            "flex_flow": null,
            "grid_area": null,
            "grid_auto_columns": null,
            "grid_auto_flow": null,
            "grid_auto_rows": null,
            "grid_column": null,
            "grid_gap": null,
            "grid_row": null,
            "grid_template_areas": null,
            "grid_template_columns": null,
            "grid_template_rows": null,
            "height": null,
            "justify_content": null,
            "justify_items": null,
            "left": null,
            "margin": null,
            "max_height": null,
            "max_width": null,
            "min_height": null,
            "min_width": null,
            "object_fit": null,
            "object_position": null,
            "order": null,
            "overflow": null,
            "overflow_x": null,
            "overflow_y": null,
            "padding": null,
            "right": null,
            "top": null,
            "visibility": null,
            "width": null
          }
        },
        "65fecfef22474fe5851df548123453d8": {
          "model_module": "@jupyter-widgets/controls",
          "model_module_version": "1.5.0",
          "model_name": "DescriptionStyleModel",
          "state": {
            "_model_module": "@jupyter-widgets/controls",
            "_model_module_version": "1.5.0",
            "_model_name": "DescriptionStyleModel",
            "_view_count": null,
            "_view_module": "@jupyter-widgets/base",
            "_view_module_version": "1.2.0",
            "_view_name": "StyleView",
            "description_width": ""
          }
        },
        "7cc5845fc610458c9f69ad8481bc0809": {
          "model_module": "@jupyter-widgets/base",
          "model_module_version": "1.2.0",
          "model_name": "LayoutModel",
          "state": {
            "_model_module": "@jupyter-widgets/base",
            "_model_module_version": "1.2.0",
            "_model_name": "LayoutModel",
            "_view_count": null,
            "_view_module": "@jupyter-widgets/base",
            "_view_module_version": "1.2.0",
            "_view_name": "LayoutView",
            "align_content": null,
            "align_items": null,
            "align_self": null,
            "border": null,
            "bottom": null,
            "display": null,
            "flex": null,
            "flex_flow": null,
            "grid_area": null,
            "grid_auto_columns": null,
            "grid_auto_flow": null,
            "grid_auto_rows": null,
            "grid_column": null,
            "grid_gap": null,
            "grid_row": null,
            "grid_template_areas": null,
            "grid_template_columns": null,
            "grid_template_rows": null,
            "height": null,
            "justify_content": null,
            "justify_items": null,
            "left": null,
            "margin": null,
            "max_height": null,
            "max_width": null,
            "min_height": null,
            "min_width": null,
            "object_fit": null,
            "object_position": null,
            "order": null,
            "overflow": null,
            "overflow_x": null,
            "overflow_y": null,
            "padding": null,
            "right": null,
            "top": null,
            "visibility": null,
            "width": null
          }
        },
        "897969b54e3b4872bd4e00f892fe7ba8": {
          "model_module": "@jupyter-widgets/controls",
          "model_module_version": "1.5.0",
          "model_name": "ProgressStyleModel",
          "state": {
            "_model_module": "@jupyter-widgets/controls",
            "_model_module_version": "1.5.0",
            "_model_name": "ProgressStyleModel",
            "_view_count": null,
            "_view_module": "@jupyter-widgets/base",
            "_view_module_version": "1.2.0",
            "_view_name": "StyleView",
            "bar_color": null,
            "description_width": ""
          }
        },
        "c61e73656238484f972339d2ff5b47d5": {
          "model_module": "@jupyter-widgets/controls",
          "model_module_version": "1.5.0",
          "model_name": "DescriptionStyleModel",
          "state": {
            "_model_module": "@jupyter-widgets/controls",
            "_model_module_version": "1.5.0",
            "_model_name": "DescriptionStyleModel",
            "_view_count": null,
            "_view_module": "@jupyter-widgets/base",
            "_view_module_version": "1.2.0",
            "_view_name": "StyleView",
            "description_width": ""
          }
        },
        "cb3fdf990ef84bec8cd554a85d51b8f9": {
          "model_module": "@jupyter-widgets/controls",
          "model_module_version": "1.5.0",
          "model_name": "FloatProgressModel",
          "state": {
            "_dom_classes": [],
            "_model_module": "@jupyter-widgets/controls",
            "_model_module_version": "1.5.0",
            "_model_name": "FloatProgressModel",
            "_view_count": null,
            "_view_module": "@jupyter-widgets/controls",
            "_view_module_version": "1.5.0",
            "_view_name": "ProgressView",
            "bar_style": "success",
            "description": "",
            "description_tooltip": null,
            "layout": "IPY_MODEL_e9654e37e09e46a2ab5c854127e15a17",
            "max": 97,
            "min": 0,
            "orientation": "horizontal",
            "style": "IPY_MODEL_897969b54e3b4872bd4e00f892fe7ba8",
            "value": 97
          }
        },
        "db2cca520b364b2abf8f77f7f0efb005": {
          "model_module": "@jupyter-widgets/controls",
          "model_module_version": "1.5.0",
          "model_name": "HBoxModel",
          "state": {
            "_dom_classes": [],
            "_model_module": "@jupyter-widgets/controls",
            "_model_module_version": "1.5.0",
            "_model_name": "HBoxModel",
            "_view_count": null,
            "_view_module": "@jupyter-widgets/controls",
            "_view_module_version": "1.5.0",
            "_view_name": "HBoxView",
            "box_style": "",
            "children": [
              "IPY_MODEL_eed04aa6e1094b37bd18ed44d2c67304",
              "IPY_MODEL_cb3fdf990ef84bec8cd554a85d51b8f9",
              "IPY_MODEL_09b6835e17f7494ca9f30818006cd6c3"
            ],
            "layout": "IPY_MODEL_34ed1c7782764bd3981035628e79dec3"
          }
        },
        "e9654e37e09e46a2ab5c854127e15a17": {
          "model_module": "@jupyter-widgets/base",
          "model_module_version": "1.2.0",
          "model_name": "LayoutModel",
          "state": {
            "_model_module": "@jupyter-widgets/base",
            "_model_module_version": "1.2.0",
            "_model_name": "LayoutModel",
            "_view_count": null,
            "_view_module": "@jupyter-widgets/base",
            "_view_module_version": "1.2.0",
            "_view_name": "LayoutView",
            "align_content": null,
            "align_items": null,
            "align_self": null,
            "border": null,
            "bottom": null,
            "display": null,
            "flex": null,
            "flex_flow": null,
            "grid_area": null,
            "grid_auto_columns": null,
            "grid_auto_flow": null,
            "grid_auto_rows": null,
            "grid_column": null,
            "grid_gap": null,
            "grid_row": null,
            "grid_template_areas": null,
            "grid_template_columns": null,
            "grid_template_rows": null,
            "height": null,
            "justify_content": null,
            "justify_items": null,
            "left": null,
            "margin": null,
            "max_height": null,
            "max_width": null,
            "min_height": null,
            "min_width": null,
            "object_fit": null,
            "object_position": null,
            "order": null,
            "overflow": null,
            "overflow_x": null,
            "overflow_y": null,
            "padding": null,
            "right": null,
            "top": null,
            "visibility": null,
            "width": null
          }
        },
        "eed04aa6e1094b37bd18ed44d2c67304": {
          "model_module": "@jupyter-widgets/controls",
          "model_module_version": "1.5.0",
          "model_name": "HTMLModel",
          "state": {
            "_dom_classes": [],
            "_model_module": "@jupyter-widgets/controls",
            "_model_module_version": "1.5.0",
            "_model_name": "HTMLModel",
            "_view_count": null,
            "_view_module": "@jupyter-widgets/controls",
            "_view_module_version": "1.5.0",
            "_view_name": "HTMLView",
            "description": "",
            "description_tooltip": null,
            "layout": "IPY_MODEL_4ed493e1314a4deb95e79b07a14441c4",
            "placeholder": "​",
            "style": "IPY_MODEL_c61e73656238484f972339d2ff5b47d5",
            "value": "100%"
          }
        }
      }
    }
  },
  "nbformat": 4,
  "nbformat_minor": 0
}
